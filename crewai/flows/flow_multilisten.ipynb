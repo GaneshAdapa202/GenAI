{
 "cells": [
  {
   "cell_type": "code",
   "execution_count": null,
   "id": "8e19f777",
   "metadata": {},
   "outputs": [],
   "source": [
    "import asyncio\n",
    "import nest_asyncio"
   ]
  },
  {
   "cell_type": "code",
   "execution_count": null,
   "id": "b41404b6",
   "metadata": {},
   "outputs": [],
   "source": [
    "asyncio = nest_asyncio.apply()"
   ]
  },
  {
   "cell_type": "code",
   "execution_count": null,
   "id": "69b3f4b1",
   "metadata": {},
   "outputs": [],
   "source": [
    "from crewai.flow import Flow, start, listen\n",
    "from litellm import completion\n",
    "\n",
    "class AISummaryFlow(Flow):\n",
    "    model = \"gpt-4o-mini\"\n",
    "\n",
    "    @start()\n",
    "    def feetch_info(self):\n",
    "        response = completion(\n",
    "            model - self.model,\n",
    "            message=[{\"role\":\"user\",\"content\":\"Get top 3 topics on agentic AI\"}]\n",
    "        )\n",
    "        headlines = response[\"choices\"][0][\"message\"][\"content\"]\n",
    "        self.state[\"headlines\"]=headlines\n",
    "        return headlines\n",
    "\n",
    "    @listen(feetch_info)\n",
    "    def summarize_headlines(self, headlines):\n",
    "        response = completion(\n",
    "            model = self.model,\n",
    "            messages = [{\"role\":\"user\",\"content\":f\"Summarize the headline briefly:\\n{headlines}\"}]\n",
    "        )\n",
    "\n",
    "    @listen(summarize_headlines)\n",
    "    def inspectio_summary(self, summary):\n",
    "        response = completion(\n",
    "            model = self.model,\n",
    "            messages = [{\"role\":\"user\", \"content\":f\"inspect whether the given information is in 5 lines:\\n{summary}\"}]\n",
    "        )\n",
    "        inspection = response[\"choices\"][0][\"message\"][\"content\"]\n",
    "        self.state[\"inspection\"] = inspection\n",
    "        return inspection    "
   ]
  },
  {
   "cell_type": "code",
   "execution_count": 4,
   "id": "f4d3b87d",
   "metadata": {},
   "outputs": [],
   "source": [
    "flow = AISummaryFlow()\n",
    "result = flow.kickoff()\n",
    "print(result)\n",
    "\n",
    "flow.plot(\"news_flow\")"
   ]
  }
 ],
 "metadata": {
  "kernelspec": {
   "display_name": ".venv",
   "language": "python",
   "name": "python3"
  },
  "language_info": {
   "codemirror_mode": {
    "name": "ipython",
    "version": 3
   },
   "file_extension": ".py",
   "mimetype": "text/x-python",
   "name": "python",
   "nbconvert_exporter": "python",
   "pygments_lexer": "ipython3",
   "version": "3.12.11"
  }
 },
 "nbformat": 4,
 "nbformat_minor": 5
}
