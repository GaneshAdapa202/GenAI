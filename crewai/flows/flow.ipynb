{
 "cells": [
  {
   "cell_type": "code",
   "execution_count": null,
   "id": "a97958b5",
   "metadata": {},
   "outputs": [],
   "source": [
    "import nest_asyncio"
   ]
  },
  {
   "cell_type": "code",
   "execution_count": null,
   "id": "8de7175b",
   "metadata": {},
   "outputs": [],
   "source": [
    "asyncio = nest_asyncio.apply()"
   ]
  },
  {
   "cell_type": "code",
   "execution_count": null,
   "id": "e6feb744",
   "metadata": {},
   "outputs": [],
   "source": [
    "from crewai.flow import Flow, start, listen\n",
    "from litellm import completion\n",
    "\n",
    "class AISummaryFlow(Flow):\n",
    "    model=\"gpt-4o-mini\"\n",
    "\n",
    "    @start()\n",
    "    def fetch_info(self):\n",
    "        response = completion(\n",
    "            model = self.model,\n",
    "            message = [{\"role\":\"user\", \"content\":\"get top 3 topics in Agentic AI\"}]\n",
    "        )\n",
    "        headlines = response[\"choices\"][0][\"message\"][content]\n",
    "        self.state[\"headline\"] = headlines\n",
    "        return headlines\n",
    "    \n",
    "    @listen(fetch_info)\n",
    "    def summarize_headlines(self, headlines):\n",
    "        response = completion(\n",
    "            model = self.model,\n",
    "            messages = [{\"role\":\"user\", \"content\": f\"Summarize these headlines briefly:\\n{headlines}\"}]\n",
    "        )\n",
    "        summary = response[\"choices\"][0][\"message\"][\"content\"]\n",
    "        self.state[\"summary\"] = summary\n",
    "        return summary\n",
    "        "
   ]
  },
  {
   "cell_type": "code",
   "execution_count": null,
   "id": "89f284e0",
   "metadata": {},
   "outputs": [],
   "source": [
    "flow = AISummaryFlow()\n",
    "result = flow.kickoff()\n",
    "print(result)\n",
    "flow.plot(\"news_flow\")"
   ]
  }
 ],
 "metadata": {
  "kernelspec": {
   "display_name": ".venv",
   "language": "python",
   "name": "python3"
  },
  "language_info": {
   "codemirror_mode": {
    "name": "ipython",
    "version": 3
   },
   "file_extension": ".py",
   "mimetype": "text/x-python",
   "name": "python",
   "nbconvert_exporter": "python",
   "pygments_lexer": "ipython3",
   "version": "3.12.11"
  }
 },
 "nbformat": 4,
 "nbformat_minor": 5
}
