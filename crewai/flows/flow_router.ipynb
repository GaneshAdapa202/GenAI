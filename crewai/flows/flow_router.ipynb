{
 "cells": [
  {
   "cell_type": "code",
   "execution_count": null,
   "id": "7bbc1cef",
   "metadata": {},
   "outputs": [],
   "source": [
    "import asyncio\n",
    "import nest_asyncio\n",
    "from crewai.flow import Flow, start, router, listen"
   ]
  },
  {
   "cell_type": "code",
   "execution_count": null,
   "id": "9c3cbc26",
   "metadata": {},
   "outputs": [],
   "source": [
    "asyncio = nest_asyncio.apply()"
   ]
  },
  {
   "cell_type": "code",
   "execution_count": null,
   "id": "dc91c8a1",
   "metadata": {},
   "outputs": [],
   "source": []
  }
 ],
 "metadata": {
  "language_info": {
   "name": "python"
  }
 },
 "nbformat": 4,
 "nbformat_minor": 5
}
