{
 "cells": [
  {
   "cell_type": "code",
   "execution_count": 32,
   "id": "fa089caf",
   "metadata": {},
   "outputs": [],
   "source": [
    "from datetime import datetime\n"
   ]
  },
  {
   "cell_type": "code",
   "execution_count": 33,
   "id": "081ae2bf",
   "metadata": {},
   "outputs": [],
   "source": [
    "def extract_logs_by_date(log_file, date_str):\n",
    "    \"\"\"Extract logs for a specific date (YYYY-MM-DD HH:MM:SS).\"\"\"\n",
    "    filtered_logs = []\n",
    "    with open(log_file, \"r\") as f:\n",
    "        for line in f:\n",
    "            if line.startswith(date_str):\n",
    "                filtered_logs.append(line.strip())\n",
    "    return filtered_logs\n"
   ]
  },
  {
   "cell_type": "code",
   "execution_count": 34,
   "id": "88648f24",
   "metadata": {},
   "outputs": [],
   "source": [
    "from datetime import datetime\n",
    "\n",
    "def extract_logs_in_range(log_file, start_date, end_date):\n",
    "    \"\"\"Extract logs between start_date and end_date (YYYY-MM-DD HH:MM:SS).\"\"\"\n",
    "    start = datetime.strptime(start_date, \"%Y-%m-%d %H:%M:%S\")\n",
    "    end = datetime.strptime(end_date, \"%Y-%m-%d %H:%M:%S\")\n",
    "    filtered_logs = []\n",
    "\n",
    "    with open(log_file, \"r\") as f:\n",
    "        for line in f:\n",
    "            try:\n",
    "                log_date_str = \" \".join(line.split()[:2])  # date + time:\n",
    "                log_date = datetime.strptime(log_date_str, \"%Y-%m-%d %H:%M:%S:\")\n",
    "                \n",
    "                if start <= log_date <= end:\n",
    "                    filtered_logs.append(line.strip())\n",
    "            except:\n",
    "                continue   # silently ignore lines that don’t match\n",
    "    return filtered_logs\n"
   ]
  },
  {
   "cell_type": "code",
   "execution_count": 35,
   "id": "9ae28541",
   "metadata": {},
   "outputs": [
    {
     "name": "stdout",
     "output_type": "stream",
     "text": [
      "2025-09-01 12:09:05: task_name=\"research_task\", task=\"Conduct a thorough research about AI LLMs Make sure you find any interesting and relevant information given the current year is 2025.\n",
      "2025-09-01 12:09:10: task_name=\"research_task\", task=\"Conduct a thorough research about AI LLMs Make sure you find any interesting and relevant information given the current year is 2025.\n",
      "2025-09-01 12:09:10: task_name=\"reporting_task\", task=\"Review the context you got and expand each topic into a full section for a report. Make sure the report is detailed and contains any and all relevant information.\n"
     ]
    }
   ],
   "source": [
    "# Example: extract logs for one day\n",
    "# logs_day = extract_logs_by_date(\"/workspace/GenAI/crewai/demo/logs.txt\", \"2025-09-01 12:09:05\")\n",
    "# for log in logs_day:\n",
    "#     print(log)\n",
    "\n",
    "# Example: extract logs within a date range\n",
    "logs_range = extract_logs_in_range(\n",
    "    \"/workspace/GenAI/crewai/demo/logs.txt\",\n",
    "    \"2025-09-01 12:09:05\",\n",
    "    \"2025-09-01 12:09:10\"\n",
    ")\n",
    "\n",
    "for log in logs_range:\n",
    "    print(log)\n"
   ]
  },
  {
   "cell_type": "code",
   "execution_count": null,
   "id": "e047c4cf",
   "metadata": {},
   "outputs": [],
   "source": []
  },
  {
   "cell_type": "code",
   "execution_count": null,
   "id": "60d2defc",
   "metadata": {},
   "outputs": [],
   "source": []
  }
 ],
 "metadata": {
  "kernelspec": {
   "display_name": ".venv",
   "language": "python",
   "name": "python3"
  },
  "language_info": {
   "codemirror_mode": {
    "name": "ipython",
    "version": 3
   },
   "file_extension": ".py",
   "mimetype": "text/x-python",
   "name": "python",
   "nbconvert_exporter": "python",
   "pygments_lexer": "ipython3",
   "version": "3.12.11"
  }
 },
 "nbformat": 4,
 "nbformat_minor": 5
}
