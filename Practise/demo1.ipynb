{
 "cells": [
  {
   "cell_type": "code",
   "execution_count": null,
   "id": "2d3bc1b0",
   "metadata": {},
   "outputs": [],
   "source": [
    "from langchain.agents import tool,create_react_agent,AgentExecutor\n",
    "from langchain_google_genai import ChatGoogleGenerativeAI\n",
    "from langchain_community.tools.wikipedia.tool import WikipediaQueryRun\n",
    "from langchain_community.utilities.wikipedia import WikipediaAPIWrapper\n",
    "from langchain import hub\n",
    "from pprint import pprint\n",
    "import os\n",
    "from dotenv import load_dotenv\n",
    "\n",
    "load_dotenv()\n",
    "\n",
    "api_key = os.getenv(\"GOOGLE_API_KEY\")"
   ]
  },
  {
   "cell_type": "code",
   "execution_count": 6,
   "id": "a02b98c1",
   "metadata": {},
   "outputs": [
    {
     "name": "stderr",
     "output_type": "stream",
     "text": [
      "/workspace/GenAI/venv/lib/python3.12/site-packages/langsmith/client.py:272: LangSmithMissingAPIKeyWarning: API key must be provided when using hosted LangSmith API\n",
      "  warnings.warn(\n"
     ]
    }
   ],
   "source": [
    "# tool \n",
    "api_wrapper = WikipediaAPIWrapper()\n",
    "\n",
    "wiki_tool = WikipediaQueryRun(api_wrapper=api_wrapper)\n",
    "\n",
    "@tool(\"Wikipedia Search\")\n",
    "def search_wiki(query):\n",
    "    \"\"\" Searches Wikipedia based on the query \"\"\"\n",
    "    return wiki_tool.invoke(query)\n",
    "\n",
    "prompt_template = hub.pull(\"hwchase17/react\")\n",
    "\n",
    "tools = [search_wiki]\n",
    "\n",
    "# initialize llm\n",
    "llm = ChatGoogleGenerativeAI(\n",
    "    model=\"gemini-1.5-flash\",\n",
    "    temperature = 0.7,\n",
    "    google_api_key = api_key,\n",
    ")"
   ]
  },
  {
   "cell_type": "code",
   "execution_count": 7,
   "id": "9c0f833e",
   "metadata": {},
   "outputs": [],
   "source": [
    "# initialize an agent\n",
    "agent = create_react_agent(\n",
    "    llm,\n",
    "    tools,\n",
    "    prompt_template\n",
    ")\n",
    "\n",
    "agent_executor = AgentExecutor(agent = agent,tools = tools)"
   ]
  },
  {
   "cell_type": "code",
   "execution_count": 8,
   "id": "df572847",
   "metadata": {},
   "outputs": [
    {
     "name": "stdout",
     "output_type": "stream",
     "text": [
      "{'input': 'What is Generative AI',\n",
      " 'output': 'Generative AI, also known as Generative artificial intelligence '\n",
      "           '(GenAI or GAI), is a subfield of artificial intelligence that uses '\n",
      "           'generative models to create various forms of data, including text, '\n",
      "           'images, and videos. These models learn patterns from training data '\n",
      "           'and then generate new data based on input, often in the form of '\n",
      "           'natural language prompts.  The technology has seen a boom in '\n",
      "           'recent years due to advancements in deep neural networks, '\n",
      "           'particularly large language models (LLMs).  Examples of Generative '\n",
      "           'AI tools include chatbots like ChatGPT and image generators like '\n",
      "           'DALL-E.  While offering significant potential across many '\n",
      "           'industries, Generative AI also raises ethical concerns related to '\n",
      "           'misuse, intellectual property, and job displacement.'}\n"
     ]
    }
   ],
   "source": [
    "response = agent_executor.invoke({\"input\":\"What is Generative AI\"})\n",
    "pprint(response)"
   ]
  }
 ],
 "metadata": {
  "kernelspec": {
   "display_name": "venv",
   "language": "python",
   "name": "python3"
  },
  "language_info": {
   "codemirror_mode": {
    "name": "ipython",
    "version": 3
   },
   "file_extension": ".py",
   "mimetype": "text/x-python",
   "name": "python",
   "nbconvert_exporter": "python",
   "pygments_lexer": "ipython3",
   "version": "3.12.11"
  }
 },
 "nbformat": 4,
 "nbformat_minor": 5
}
